{
 "cells": [
  {
   "cell_type": "markdown",
   "metadata": {},
   "source": [
    "This notebook is meant for your use with the optional exercises with Workshop 1. The problems range from difficult to easy. As always feel free to work with other people to solve these."
   ]
  },
  {
   "cell_type": "code",
   "execution_count": 2,
   "metadata": {},
   "outputs": [],
   "source": [
    "# These are all the imports needed to solve the problems in this notebook\n",
    "###### IMPORTS GO HERE ######\n",
    "# Standard Libraries #\n",
    "import datetime as dt\n",
    "# Public Libraries #\n",
    "import numpy as np"
   ]
  },
  {
   "cell_type": "markdown",
   "metadata": {},
   "source": [
    "### Problem A.) Unix Time Conversion and Modulo\n",
    "\n",
    "The final basic math operation in Python that we didn't cover is called modulo. It gives you the remainder from a division operation. Below are some examples utilizing the modulo operator (%). [A resource for the modulo operator can be found here](https://realpython.com/python-modulo-operator/#python-modulo-operator-basics)"
   ]
  },
  {
   "cell_type": "code",
   "execution_count": 8,
   "metadata": {},
   "outputs": [
    {
     "name": "stdout",
     "output_type": "stream",
     "text": [
      "5 % 2 = 1\n",
      "4 % 2 = 0\n",
      "5 % 120 = 5\n",
      "2841528 % 9 = 3\n"
     ]
    }
   ],
   "source": [
    "print(f'5 % 2 = {5 % 2}')\n",
    "print(f'4 % 2 = {4 % 2}')\n",
    "print(f'5 % 120 = {5 % 120}')\n",
    "print(f'2841528 % 9 = {2841528 % 9}')"
   ]
  },
  {
   "cell_type": "markdown",
   "metadata": {},
   "source": [
    "Unix Time is the main standard for time keeping on computers, it is defined as the number of non-leap seconds that has passed since Midnight on January 1st 1970. \n",
    "\n",
    "Because Unix Time is defined based on the number of seconds that have passed since the 1970s it is quite unreadable to humans. In this problem you will write functions to convert a time given in Unix Time to the number of days, hours, minutes, and seconds that have passed since Jan. 1st 1970.\n",
    "\n",
    "Given an input in seconds (unix_seconds), return how much time has passed since then in days, hours, minutes, and seconds (n_days,n_hours,n_minutes,n_seconds).\n",
    "\n",
    "While this can be done easily with the datetime package we learned about please try to do this purely using basic math operations in Python. Here are some Unix times to work with:\n",
    "\n",
    "- 946710000\n",
    "- 31561200\n",
    "- 1356103399\n",
    "\n",
    "You can also use the function np.random.randint() to generate more random unix times to practice with. [The documentation on np.random.randint() can be found here](https://numpy.org/doc/stable/reference/random/generated/numpy.random.randint.html)"
   ]
  },
  {
   "cell_type": "code",
   "execution_count": null,
   "metadata": {},
   "outputs": [],
   "source": []
  },
  {
   "cell_type": "code",
   "execution_count": null,
   "metadata": {},
   "outputs": [],
   "source": []
  },
  {
   "cell_type": "markdown",
   "metadata": {},
   "source": [
    "### Problem B.) Vowel Counter\n",
    "\n"
   ]
  },
  {
   "cell_type": "markdown",
   "metadata": {},
   "source": [
    "Vowels are an important part of the English language. In this problem you will write a function that, given any arbitrary string, will count the number of vowels that appear in that string. For the sake of this problem consider Y a vowel, meaning your list of vowels is A, E, I, O, U, Y.\n",
    "\n",
    "Example Strings:\n",
    "- \"The Quick Brown Fox Jumped Over the Lazy Dog\"\n",
    "- \"The Aleutian Islands are home to sea otters, sea urchins, and sea birds.\"\n",
    "- \"The 2024 Summer Olympics were held in Paris, France and featured sports such as breakdancing, running, and artistic swimming.\""
   ]
  },
  {
   "cell_type": "code",
   "execution_count": null,
   "metadata": {},
   "outputs": [],
   "source": []
  },
  {
   "cell_type": "code",
   "execution_count": null,
   "metadata": {},
   "outputs": [],
   "source": []
  },
  {
   "cell_type": "markdown",
   "metadata": {},
   "source": [
    "### Problem C.) Check if Two Lines are Parallel or Perpendicular\n",
    "\n",
    "Givne two lines check if they are either parallel or perpendicular. The formula to get the angle between two lines is:\n",
    "\n",
    "$$ \\theta = tan^{-1} \\frac{m_1 - m_2}{1 + m_1m_2} $$\n",
    "\n",
    "Where $tan^{-1}$ is arctan, $m_1$ is the slope of Line 1, and $m_2$ is the slope of Line 2. To calculate arctan you can use the function np.arctan(). Just know that numpy works in radians, you can convert between radians and degrees using the numpy functions np.deg2rad() and np.rad2deg().\n",
    "\n",
    "Lines will be defined as two points along the line as X,Y pairs. Here are some examples to get you started:\n",
    "\n",
    "- Line 1: (0,0), (1,1); Line 2: (0,3), (3,6)\n",
    "- Line 1: (0,1), (1,0); Line 2: (0,0), (1,1)\n",
    "- Line 1: (2,8), (4,0); Line 2: (-3,0), (0,12)"
   ]
  },
  {
   "cell_type": "code",
   "execution_count": null,
   "metadata": {},
   "outputs": [],
   "source": []
  },
  {
   "cell_type": "code",
   "execution_count": null,
   "metadata": {},
   "outputs": [],
   "source": []
  },
  {
   "cell_type": "markdown",
   "metadata": {},
   "source": [
    "### Problem D.) Perimeter and Area of a Triangle\n",
    "\n",
    "Given a list containing the three points that define a triangle calculate the area and parimeter of the triangle. The points will come in list of X,Y pairs e.g. [[0,0],[1,1],[1,0]] is a triangle composed of the points (0,0), (1,1), and (1,0).\n",
    "\n",
    "[For this problem I recommend using Heron's Formula. You can read about it here from Wikipedia.](https://en.wikipedia.org/wiki/Heron%27s_formula%7D)\n",
    "\n",
    "Below are a list of triangle's for you to work with:\n",
    "\n",
    "- [[0,0],[1,0],[1,1]]\n",
    "- [[5,8],[12,0],[0,12]]\n",
    "- [[8,8],[4,4],[3,3]]\n",
    "- [[0.5,0.5],[-3,3],[4,-3]]\n",
    "- [[3,1],[22,33],[108,202]]"
   ]
  },
  {
   "cell_type": "code",
   "execution_count": null,
   "metadata": {},
   "outputs": [],
   "source": []
  },
  {
   "cell_type": "code",
   "execution_count": null,
   "metadata": {},
   "outputs": [],
   "source": []
  },
  {
   "cell_type": "markdown",
   "metadata": {},
   "source": [
    "### Problem E.) Number of Friday the 13ths in a Year\n",
    "\n",
    "Friday the 13th is considered an unlucky day, in this problem we will figure out how many times Friday the 13th occurs in given year using the datetime package we learned about.\n",
    "\n",
    "For this problem you will write a function that takes a year as an input and outputs the number of Friday the 13ths that occurred that year. \n",
    "\n",
    "To make this problem easier I recommend reading the documentation for the datetime package linked below. [Here is a link to the datetime documentation for a function that may be useful.](https://docs.python.org/3/library/datetime.html#datetime.date.weekday)"
   ]
  },
  {
   "cell_type": "code",
   "execution_count": null,
   "metadata": {},
   "outputs": [],
   "source": []
  },
  {
   "cell_type": "code",
   "execution_count": null,
   "metadata": {},
   "outputs": [],
   "source": []
  },
  {
   "cell_type": "markdown",
   "metadata": {},
   "source": [
    "### Problem F.) Summing Numpy Arrays\n",
    "\n",
    "Below is a block of code that generates a 3x3 numpy array filled with random values. Your goal is to write a function which, given a random 2-D numpy array returns the sum of the whole array, the sum along each column, and the sum along each row.\n",
    "\n",
    "For this question I will not tell you which numpy function to use and instead I recommend you search the numpy documentation on your own to find the function you want to use. [Here is a link to the documentation for numpy.](https://numpy.org/doc/2.0/reference/index.html#reference)\n",
    "\n",
    "Your function should output three things:\n",
    "\n",
    "1.) A float that is the sum of the entire array\n",
    "\n",
    "2.) A numpy array containing the sum of each column\n",
    "\n",
    "3.) A numpy array containging the sum of reach row"
   ]
  },
  {
   "cell_type": "code",
   "execution_count": 9,
   "metadata": {},
   "outputs": [],
   "source": [
    "def generate_random_3x3_array() -> np.ndarray:\n",
    "    '''\n",
    "        This function generates a random 3x3 array of floats as a numpy array,\n",
    "        subtracts 0.5 to have the values span the range [-0.5,0.5) and then\n",
    "        multiplies the values by five to increase their final value\n",
    "\n",
    "        Parameters:\n",
    "            - None\n",
    "        \n",
    "        Outputs:\n",
    "            - rand_array (np.ndarray): The array of random values we generated\n",
    "                and then modified.\n",
    "    '''\n",
    "\n",
    "    rand_array = (np.random.rand(3,3) - 0.5) * 5\n",
    "\n",
    "    return rand_array"
   ]
  },
  {
   "cell_type": "code",
   "execution_count": null,
   "metadata": {},
   "outputs": [],
   "source": []
  },
  {
   "cell_type": "code",
   "execution_count": null,
   "metadata": {},
   "outputs": [],
   "source": []
  },
  {
   "cell_type": "markdown",
   "metadata": {},
   "source": [
    "### Problem G.) Calculator Class\n",
    "\n",
    "This final problem is a little harder than the others, it requires you design multiple pieces of code and how they interact with one another on your own. I recommend you write/draw out things on a piece of paper before you start actually coding so that you can fully think things through.\n",
    "\n",
    "In this problem your goal is to make a custom calculator class. A calculator object should be able to add, subtract, multiply, and divide. It should also store the results of the last three operations you asked it to carry out.\n",
    "\n",
    "Your methods to add, subtract, multiply, and divide should take two numbers as inputs and output the result of the desired operation.\n",
    "\n",
    "Your calculator class should also have a method to report the result of the last three operations you asked it to perform. This means your class needs to both store data and modify the data it stores. Some of example code of what your final calculator class should be able to do is reproduced below.\n",
    "\n",
    "~~~\n",
    "    # Initialize a calculator object\n",
    "    ex_calc = calculator()\n",
    "    # Add two numbers\n",
    "    ex_calc.add(4,5)\n",
    "    # Multiply two numbers\n",
    "    ex_calc.multiply(4,5)\n",
    "    # Divide two numbers\n",
    "    ex_calc.divide(3,3)\n",
    "    # Report the last three operations results\n",
    "    ex_calc.history()\n",
    "~~~\n",
    "\n",
    "When I ran my code I got the output reproduced in the block below\n",
    "\n",
    "~~~\n",
    "    9\n",
    "    20\n",
    "    1\n",
    "    [1,20,9]\n",
    "~~~"
   ]
  },
  {
   "cell_type": "code",
   "execution_count": null,
   "metadata": {},
   "outputs": [],
   "source": []
  },
  {
   "cell_type": "code",
   "execution_count": null,
   "metadata": {},
   "outputs": [],
   "source": []
  }
 ],
 "metadata": {
  "kernelspec": {
   "display_name": "tutorial_env",
   "language": "python",
   "name": "python3"
  },
  "language_info": {
   "codemirror_mode": {
    "name": "ipython",
    "version": 3
   },
   "file_extension": ".py",
   "mimetype": "text/x-python",
   "name": "python",
   "nbconvert_exporter": "python",
   "pygments_lexer": "ipython3",
   "version": "3.12.4"
  }
 },
 "nbformat": 4,
 "nbformat_minor": 2
}
