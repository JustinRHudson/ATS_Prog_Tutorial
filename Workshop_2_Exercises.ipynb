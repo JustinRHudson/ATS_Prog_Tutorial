{
 "cells": [
  {
   "cell_type": "markdown",
   "metadata": {},
   "source": [
    "This notebook contains a few exercises to reinforce the concepts covered in Workshop 2.\n",
    "\n",
    "These exercises are also based around your ability to read and interact with documentation. Please refer to the Workshop_2 notebook, the following links, and Google (or Bing/DuckDuckGo/Ecosia if that's what you prefer):\n",
    "- [Matplotlib Documentation Page](https://matplotlib.org/stable/users/explain/quick_start.html)\n",
    "- [Pandas Documentation Page](https://pandas.pydata.org/docs/user_guide/index.html#user-guide)\n",
    "- [Xarray Documentation Page](https://docs.xarray.dev/en/stable/user-guide/index.html)\n",
    "- [Cartopy Documentation Page](https://scitools.org.uk/cartopy/docs/latest/getting_started/index.html)\n",
    "\n",
    "There are also links to more specific documentation pages sprinkled throughout the notebook"
   ]
  },
  {
   "cell_type": "code",
   "execution_count": 1,
   "metadata": {},
   "outputs": [
    {
     "name": "stdout",
     "output_type": "stream",
     "text": [
      "Intel MKL WARNING: Support of Intel(R) Streaming SIMD Extensions 4.2 (Intel(R) SSE4.2) enabled only processors has been deprecated. Intel oneAPI Math Kernel Library 2025.0 will require Intel(R) Advanced Vector Extensions (Intel(R) AVX) instructions.\n",
      "Intel MKL WARNING: Support of Intel(R) Streaming SIMD Extensions 4.2 (Intel(R) SSE4.2) enabled only processors has been deprecated. Intel oneAPI Math Kernel Library 2025.0 will require Intel(R) Advanced Vector Extensions (Intel(R) AVX) instructions.\n"
     ]
    }
   ],
   "source": [
    "###### IMPORTS GO HERE ######\n",
    "# Standard Libraries #\n",
    "import datetime as dt # Helps us handle dates\n",
    "# Public Libraries #\n",
    "import matplotlib.pyplot as plt # Gives us more advanced plotting functionality\n",
    "import pandas as pd # Extends data analysis capabilities\n",
    "import numpy as np # Extends data analysis/math capabilities\n",
    "import xarray as xr # Extends data analysis capabilities\n",
    "import cartopy.crs as ccrs # This lets us easily work with map projections\n",
    "import cartopy.feature as cfeature # This adds political/geographic features to maps"
   ]
  },
  {
   "cell_type": "markdown",
   "metadata": {},
   "source": [
    "We are first going to practice making a few simple plots. We are then going to look at data stored in a Pandas Dataframe and then data stored in an XArray Dataset.\n",
    "\n",
    "Below is some code that makes an empty single panel plot as well as five different numpy arrays, one is a list of X-values and then four containing Y-values. Plot all four lines on the empty plot."
   ]
  },
  {
   "cell_type": "code",
   "execution_count": 3,
   "metadata": {},
   "outputs": [],
   "source": [
    "# Make the numpy arrays\n",
    "# Make the X-values\n",
    "x_values = np.arange(0,10,.1)\n",
    "# Make various Y-values\n",
    "y_values1 = 4 * x_values - 3\n",
    "y_values2 = 6*np.sin(x_values*np.pi) + 15\n",
    "y_values3 = 10*np.sqrt(x_values)\n",
    "y_values4 = y_values1[::-1]\n",
    "\n",
    "# Make the empty plot for the y_values to be plotted on\n",
    "# and then plot all four lines on the plot\n",
    "\n",
    "\n"
   ]
  },
  {
   "cell_type": "markdown",
   "metadata": {},
   "source": [
    "The plot that we made has multi-colored lines on it with little to no explanation of what's going on. Copy and paste your code into the cell below and add to the plot the following features:\n",
    "\n",
    "- An X-label of \"X-Values\"\n",
    "- A Y-label of \"Y-Values\"\n",
    "- A legend that lists all four lines\n",
    "- A title of \"Four Random Lines\""
   ]
  },
  {
   "cell_type": "code",
   "execution_count": null,
   "metadata": {},
   "outputs": [],
   "source": []
  },
  {
   "cell_type": "markdown",
   "metadata": {},
   "source": [
    "The next thing we're going to do is change two of the lines to be scatter plot points instead of lines, we do this using the .scatter() method. Please switch any two of the lines to be scatter plots instead"
   ]
  },
  {
   "cell_type": "code",
   "execution_count": null,
   "metadata": {},
   "outputs": [],
   "source": []
  },
  {
   "cell_type": "markdown",
   "metadata": {},
   "source": [
    "Having four lines on the same plot looks kind of busy. Let's separate this into two subplots within the same figure. Below is some code to get you started. You should plot the lines that use .plot() on one subplot, and the lines that use .scatter() on the other. Both subplots should be have the same X and Y labels as well as legends"
   ]
  },
  {
   "cell_type": "code",
   "execution_count": null,
   "metadata": {},
   "outputs": [],
   "source": []
  },
  {
   "cell_type": "markdown",
   "metadata": {},
   "source": [
    "The final thing we are going to do with matplotlib is plot data onto a map of the globe. The cell below generates some random temperature data on a lat,lon grid. Plot this data onto a map of the globe using the .contourf() function from matplotlib and the PlateCarree() map projection from cartopy. You should also add the coastlines to the plot so there is geographic context for the values we're plotting.\n",
    "\n",
    "Your levels should have a spacing of 2 degrees.\n",
    "\n",
    "[Here is the documentation for .contourf()](https://matplotlib.org/stable/api/_as_gen/matplotlib.pyplot.contourf.html)\n",
    "\n",
    "[Here is the documentation for map projections in cartopy](https://scitools.org.uk/cartopy/docs/v0.15/crs/projections.html)\n",
    "\n",
    "[Here are examples of applying map projections to matplotlib plots](https://scitools.org.uk/cartopy/docs/v0.15/matplotlib/intro.html)\n",
    "\n",
    "I also recommend changing the colorbar off of the default Viridis. [You can look at a list of matplotlib colorbar options here.](https://matplotlib.org/stable/users/explain/colors/colormaps.html) You do this using the keyword cmap='insert colorbar name' in your .contourf() function call. Feel free to experiment with different colorbars and get a feel for how they look and how choice of colorbar modifies the presentation of the data."
   ]
  },
  {
   "cell_type": "code",
   "execution_count": 4,
   "metadata": {},
   "outputs": [],
   "source": [
    "# This cell generates some random temperature data on a lat-lon grid\n",
    "# Just run the cell and don't change any of its contents.\n",
    "# First make the lat/lons\n",
    "ex_lons = np.linspace(-179.5,179.5,360)\n",
    "ex_lats = np.linspace(-89.5,89.5,180)\n",
    "# Make a meshgrid\n",
    "ex_lons_mg,ex_lats_mg = np.meshgrid(ex_lons,ex_lats)\n",
    "# Make an empty array to eventually fill with the temperature data\n",
    "ex_temps = np.empty(ex_lons_mg.shape)\n",
    "# Let's make this be during fall or spring so hemispheres are roughly equal\n",
    "# Believe it or not the line below isn't actually a bad\n",
    "ex_temps[:,:] = 30 * np.cos(np.deg2rad(ex_lats_mg))\n",
    "# Let's add some horizontal variations\n",
    "ex_temps[-90:,:] += np.random.normal(0,4,360)\n",
    "ex_temps[:-90,:] += np.random.normal(0,4,360)\n",
    "# Add in some hotspots/coldspots in each hemisphere\n",
    "ex_temps[33:55,68:180] += 6\n",
    "ex_temps[-29:,200:] += 4\n",
    "ex_temps[77:100,120:300] -= 4\n",
    "ex_temps[-55:-40,220:260] -= 2\n",
    "# Shove down the temp at the poles to more reasonable temps\n",
    "ex_temps[:16,:] -= 30\n",
    "ex_temps[-16:,:] -= 20\n",
    "# Now smooth this out because otherwise it'll look ridiculous\n",
    "from scipy.ndimage import gaussian_filter # This is just a tool to smooth data with\n",
    "ex_temps = gaussian_filter(ex_temps,sigma = 7)"
   ]
  },
  {
   "cell_type": "markdown",
   "metadata": {},
   "source": [
    "Make your plot of the ex_temps array in the codeblock below this cell."
   ]
  },
  {
   "cell_type": "code",
   "execution_count": null,
   "metadata": {},
   "outputs": [],
   "source": []
  },
  {
   "cell_type": "markdown",
   "metadata": {},
   "source": [
    "Matplotlib and Cartopy assume PlateCarree() as a default map projection. If we want to plot data such as this on a different map projection we have to transform the data. \n",
    "\n",
    "Here are some projections to try:\n",
    "\n",
    "- Mollweide\n",
    "- Mercator\n",
    "- Robinson\n",
    "- Sinusoidal\n",
    "\n",
    "Pick a map projection you want to test out from the list above. Then add to your .contourf() function call the keyword transform=ccrs.PlateCarree() this will enable you to plot the data on the new map projection. Delete this keyword to see the impact of not having it and how it ruins your plot."
   ]
  },
  {
   "cell_type": "code",
   "execution_count": null,
   "metadata": {},
   "outputs": [],
   "source": []
  },
  {
   "cell_type": "markdown",
   "metadata": {},
   "source": [
    "Now we're going to practice with Pandas some more. The code below generates a dataframe with synthetic temperature, and wind data meant to simulate conditions here in Fort Collins throughout the year.\n",
    "\n",
    "The temperature data is in degrees Celsius, and the windspeed is in meters per second."
   ]
  },
  {
   "cell_type": "code",
   "execution_count": 5,
   "metadata": {},
   "outputs": [],
   "source": [
    "# This cell generates the random data to go into the dataframe\n",
    "# The values it generates closely approximate the climatology here in Fort Collins\n",
    "\n",
    "# This line just ensures everyone's randomly generated data is the same\n",
    "# If you change the value inside it you will get a very different dataframe from everyone else\n",
    "np.random.seed(24238)\n",
    "\n",
    "# Make dates for everyday from 2015 to 2020\n",
    "fc_df_dates = np.array([dt.datetime(2015,1,1,12) + dt.timedelta(days = i) for i in range(2192)])\n",
    "\n",
    "# Generate and smooth the temperature data so there is a synoptic + seasonal signal\n",
    "fc_df_temps = gaussian_filter(np.array([-25*np.cos((x/58.4))+12 + np.random.normal(0,3,1) for x in range(2192)]),sigma = 1)\n",
    "\n",
    "# Make the winds random\n",
    "fc_df_winds = np.random.uniform(0,1,2192)*9\n",
    "\n",
    "# Add directions to the wind via angles\n",
    "fc_df_wind_dir = np.random.randint(0,360,2192)\n",
    "\n",
    "# Make the actual dataframe\n",
    "fc_df = pd.DataFrame.from_dict({'dates':fc_df_dates[:],'temp':fc_df_temps[:,0],'wind_speed':fc_df_winds[:],'wind_direction':fc_df_wind_dir},)"
   ]
  },
  {
   "cell_type": "markdown",
   "metadata": {},
   "source": [
    "Examine the dataframe the first few rows of the dataframe in the cell below to get a sense of how it is arranged."
   ]
  },
  {
   "cell_type": "code",
   "execution_count": null,
   "metadata": {},
   "outputs": [],
   "source": []
  },
  {
   "cell_type": "markdown",
   "metadata": {},
   "source": [
    "Below is a function that takes the wind angles we in the data frame and converts them to strings that signify the direction of the wind. Use this function to add a new column to our dataframe called 'wind_direction_str'"
   ]
  },
  {
   "cell_type": "code",
   "execution_count": 6,
   "metadata": {},
   "outputs": [],
   "source": [
    "def calculate_wind_direction(wind_angles:pd.Series) -> pd.Series:\n",
    "    '''\n",
    "        Given a Pandas Series of wind direction as an angle (0-360) this function calculates\n",
    "        the direction of the winds and generates an equivalently long Pandas Series filled\n",
    "        with strings indicating the wind_direction. The strings are only for the four\n",
    "        cardinal directions 'N', 'S', 'E', 'W'\n",
    "\n",
    "        Parameters:\n",
    "            wind_angles (pd.Series): The wind angles we want to convert into strings.\n",
    "        \n",
    "        Outputs:\n",
    "            conv_wind_angles (pd.Series): A pandas series of the converted wind directions\n",
    "    '''\n",
    "\n",
    "    # Create an empty numpy array to hold our data\n",
    "    conv_wind_angles = np.empty((len(wind_angles)),dtype = str)\n",
    "\n",
    "    # if/else control flow to convert angle into a string\n",
    "    for i in range(len(wind_angles)):\n",
    "        if wind_angles[i] >= 315 or wind_angles[i] <= 45:\n",
    "            conv_wind_angles[i] = 'N'\n",
    "        elif wind_angles[i] >= 45 and wind_angles[i] <= 135:\n",
    "            conv_wind_angles[i] = 'E'\n",
    "        elif wind_angles[i] >= 135 and wind_angles[i] <= 225:\n",
    "            conv_wind_angles[i] = 'S'\n",
    "        elif wind_angles[i] >= 225 and wind_angles[i] <= 315:\n",
    "            conv_wind_angles[i] = 'W'\n",
    "        else:\n",
    "            conv_wind_angles[i] = 'NAN'\n",
    "\n",
    "    #convert to a pandas series and return the results of our conversion\n",
    "    return pd.Series(conv_wind_angles)"
   ]
  },
  {
   "cell_type": "code",
   "execution_count": 8,
   "metadata": {},
   "outputs": [],
   "source": [
    "# Create your new column in this cell\n",
    "\n"
   ]
  },
  {
   "cell_type": "markdown",
   "metadata": {},
   "source": [
    "One of the pandas methods we learned about in the workshop was .describe(), the functionality of .describe() can actually be extended based on certain groupings within the data.\n",
    "\n",
    "The .groupby() method allows us to group data within a pandas array based on some characteristic. One of the columns of our dataframe is great for grouping data by, 'wind_direction_str'\n",
    "\n",
    "[Here is the documentation for groupby](https://pandas.pydata.org/pandas-docs/stable/reference/api/pandas.DataFrame.groupby.html)\n",
    "\n",
    "Select the temp and wind_direction_str columns from the data-frame, call groupby on the wind_direction_str column and then call .describe() on the groupy results. You end result should be statistics for temperature based on the direction of the wind. \n",
    "\n",
    "Below is an example where I do a similar grouping on the month of the year."
   ]
  },
  {
   "cell_type": "code",
   "execution_count": 9,
   "metadata": {},
   "outputs": [
    {
     "data": {
      "text/html": [
       "<div>\n",
       "<style scoped>\n",
       "    .dataframe tbody tr th:only-of-type {\n",
       "        vertical-align: middle;\n",
       "    }\n",
       "\n",
       "    .dataframe tbody tr th {\n",
       "        vertical-align: top;\n",
       "    }\n",
       "\n",
       "    .dataframe thead tr th {\n",
       "        text-align: left;\n",
       "    }\n",
       "\n",
       "    .dataframe thead tr:last-of-type th {\n",
       "        text-align: right;\n",
       "    }\n",
       "</style>\n",
       "<table border=\"1\" class=\"dataframe\">\n",
       "  <thead>\n",
       "    <tr>\n",
       "      <th></th>\n",
       "      <th colspan=\"8\" halign=\"left\">temp</th>\n",
       "    </tr>\n",
       "    <tr>\n",
       "      <th></th>\n",
       "      <th>count</th>\n",
       "      <th>mean</th>\n",
       "      <th>std</th>\n",
       "      <th>min</th>\n",
       "      <th>25%</th>\n",
       "      <th>50%</th>\n",
       "      <th>75%</th>\n",
       "      <th>max</th>\n",
       "    </tr>\n",
       "    <tr>\n",
       "      <th>dates</th>\n",
       "      <th></th>\n",
       "      <th></th>\n",
       "      <th></th>\n",
       "      <th></th>\n",
       "      <th></th>\n",
       "      <th></th>\n",
       "      <th></th>\n",
       "      <th></th>\n",
       "    </tr>\n",
       "  </thead>\n",
       "  <tbody>\n",
       "    <tr>\n",
       "      <th>1</th>\n",
       "      <td>186.0</td>\n",
       "      <td>-12.539833</td>\n",
       "      <td>2.029874</td>\n",
       "      <td>-16.925412</td>\n",
       "      <td>-14.000005</td>\n",
       "      <td>-12.443447</td>\n",
       "      <td>-11.017546</td>\n",
       "      <td>-7.722999</td>\n",
       "    </tr>\n",
       "    <tr>\n",
       "      <th>2</th>\n",
       "      <td>170.0</td>\n",
       "      <td>-7.155033</td>\n",
       "      <td>2.943996</td>\n",
       "      <td>-13.672570</td>\n",
       "      <td>-9.119156</td>\n",
       "      <td>-7.264645</td>\n",
       "      <td>-4.904726</td>\n",
       "      <td>1.701017</td>\n",
       "    </tr>\n",
       "    <tr>\n",
       "      <th>3</th>\n",
       "      <td>186.0</td>\n",
       "      <td>3.023223</td>\n",
       "      <td>4.073823</td>\n",
       "      <td>-6.697672</td>\n",
       "      <td>-0.001676</td>\n",
       "      <td>2.779027</td>\n",
       "      <td>6.223991</td>\n",
       "      <td>13.505389</td>\n",
       "    </tr>\n",
       "    <tr>\n",
       "      <th>4</th>\n",
       "      <td>180.0</td>\n",
       "      <td>15.750411</td>\n",
       "      <td>4.145452</td>\n",
       "      <td>6.040479</td>\n",
       "      <td>12.623617</td>\n",
       "      <td>16.058914</td>\n",
       "      <td>18.694778</td>\n",
       "      <td>25.459054</td>\n",
       "    </tr>\n",
       "    <tr>\n",
       "      <th>5</th>\n",
       "      <td>186.0</td>\n",
       "      <td>27.362272</td>\n",
       "      <td>3.494356</td>\n",
       "      <td>20.394835</td>\n",
       "      <td>24.513964</td>\n",
       "      <td>27.256103</td>\n",
       "      <td>30.159866</td>\n",
       "      <td>35.876766</td>\n",
       "    </tr>\n",
       "    <tr>\n",
       "      <th>6</th>\n",
       "      <td>180.0</td>\n",
       "      <td>34.928314</td>\n",
       "      <td>2.234326</td>\n",
       "      <td>28.409000</td>\n",
       "      <td>33.502857</td>\n",
       "      <td>35.356683</td>\n",
       "      <td>36.491675</td>\n",
       "      <td>39.771753</td>\n",
       "    </tr>\n",
       "    <tr>\n",
       "      <th>7</th>\n",
       "      <td>186.0</td>\n",
       "      <td>36.519516</td>\n",
       "      <td>1.863096</td>\n",
       "      <td>30.232249</td>\n",
       "      <td>35.396654</td>\n",
       "      <td>36.653188</td>\n",
       "      <td>37.675750</td>\n",
       "      <td>40.886698</td>\n",
       "    </tr>\n",
       "    <tr>\n",
       "      <th>8</th>\n",
       "      <td>186.0</td>\n",
       "      <td>31.738106</td>\n",
       "      <td>3.151911</td>\n",
       "      <td>23.912266</td>\n",
       "      <td>29.461426</td>\n",
       "      <td>31.933212</td>\n",
       "      <td>34.192002</td>\n",
       "      <td>38.100770</td>\n",
       "    </tr>\n",
       "    <tr>\n",
       "      <th>9</th>\n",
       "      <td>180.0</td>\n",
       "      <td>20.682579</td>\n",
       "      <td>3.947712</td>\n",
       "      <td>13.051627</td>\n",
       "      <td>17.810431</td>\n",
       "      <td>20.518401</td>\n",
       "      <td>24.228427</td>\n",
       "      <td>29.700172</td>\n",
       "    </tr>\n",
       "    <tr>\n",
       "      <th>10</th>\n",
       "      <td>186.0</td>\n",
       "      <td>8.121683</td>\n",
       "      <td>4.316762</td>\n",
       "      <td>-1.320957</td>\n",
       "      <td>4.814622</td>\n",
       "      <td>8.146614</td>\n",
       "      <td>11.223065</td>\n",
       "      <td>19.520262</td>\n",
       "    </tr>\n",
       "    <tr>\n",
       "      <th>11</th>\n",
       "      <td>180.0</td>\n",
       "      <td>-3.470597</td>\n",
       "      <td>3.603666</td>\n",
       "      <td>-10.321784</td>\n",
       "      <td>-6.333154</td>\n",
       "      <td>-4.088758</td>\n",
       "      <td>-0.447015</td>\n",
       "      <td>3.891730</td>\n",
       "    </tr>\n",
       "    <tr>\n",
       "      <th>12</th>\n",
       "      <td>186.0</td>\n",
       "      <td>-11.080899</td>\n",
       "      <td>2.398891</td>\n",
       "      <td>-15.765661</td>\n",
       "      <td>-12.682698</td>\n",
       "      <td>-11.427470</td>\n",
       "      <td>-9.550956</td>\n",
       "      <td>-4.760635</td>\n",
       "    </tr>\n",
       "  </tbody>\n",
       "</table>\n",
       "</div>"
      ],
      "text/plain": [
       "        temp                                                                   \\\n",
       "       count       mean       std        min        25%        50%        75%   \n",
       "dates                                                                           \n",
       "1      186.0 -12.539833  2.029874 -16.925412 -14.000005 -12.443447 -11.017546   \n",
       "2      170.0  -7.155033  2.943996 -13.672570  -9.119156  -7.264645  -4.904726   \n",
       "3      186.0   3.023223  4.073823  -6.697672  -0.001676   2.779027   6.223991   \n",
       "4      180.0  15.750411  4.145452   6.040479  12.623617  16.058914  18.694778   \n",
       "5      186.0  27.362272  3.494356  20.394835  24.513964  27.256103  30.159866   \n",
       "6      180.0  34.928314  2.234326  28.409000  33.502857  35.356683  36.491675   \n",
       "7      186.0  36.519516  1.863096  30.232249  35.396654  36.653188  37.675750   \n",
       "8      186.0  31.738106  3.151911  23.912266  29.461426  31.933212  34.192002   \n",
       "9      180.0  20.682579  3.947712  13.051627  17.810431  20.518401  24.228427   \n",
       "10     186.0   8.121683  4.316762  -1.320957   4.814622   8.146614  11.223065   \n",
       "11     180.0  -3.470597  3.603666 -10.321784  -6.333154  -4.088758  -0.447015   \n",
       "12     186.0 -11.080899  2.398891 -15.765661 -12.682698 -11.427470  -9.550956   \n",
       "\n",
       "                  \n",
       "             max  \n",
       "dates             \n",
       "1      -7.722999  \n",
       "2       1.701017  \n",
       "3      13.505389  \n",
       "4      25.459054  \n",
       "5      35.876766  \n",
       "6      39.771753  \n",
       "7      40.886698  \n",
       "8      38.100770  \n",
       "9      29.700172  \n",
       "10     19.520262  \n",
       "11      3.891730  \n",
       "12     -4.760635  "
      ]
     },
     "execution_count": 9,
     "metadata": {},
     "output_type": "execute_result"
    }
   ],
   "source": [
    "fc_df[['temp']].groupby(fc_df['dates'].dt.month).describe()"
   ]
  },
  {
   "cell_type": "markdown",
   "metadata": {},
   "source": [
    "Do your grouping in the cell below, then look at the data. Which direction tends to be the coldest and which one tends to be the warmest?"
   ]
  },
  {
   "cell_type": "code",
   "execution_count": null,
   "metadata": {},
   "outputs": [],
   "source": []
  },
  {
   "cell_type": "markdown",
   "metadata": {},
   "source": [
    "Another feature of pandas that we didn't fully explore in the earlier workshop is the ability to sort columns by other columns. [Here is the documentation for pandas .sort_values() function.](https://pandas.pydata.org/docs/reference/api/pandas.DataFrame.sort_values.html)\n",
    "\n",
    "Review the documentation and then sort the data frame by the temperature values, and report the first and last few rows using .head() and .tail(). How does Pandas sort the values? What did this do to the index (the leftmost column)?"
   ]
  },
  {
   "cell_type": "code",
   "execution_count": null,
   "metadata": {},
   "outputs": [],
   "source": []
  },
  {
   "cell_type": "code",
   "execution_count": null,
   "metadata": {},
   "outputs": [],
   "source": []
  },
  {
   "cell_type": "markdown",
   "metadata": {},
   "source": [
    "Now let's practice with querying the data. Let's pretend that the list below was given to you by your adviser as pieces of information they would like to learn about our simple dataset. Using the .query() method we learned about in the workshop try and extract that information. Remember that you can call other pandas methods such as .mean() on the results of .query().\n",
    "\n",
    "When trying to call .query() with data that is stored as a string you need to wrap the value you're trying to call in either a single-quote or double-quote still, but you cannot use whichever type of quote you used to define your string.\n",
    "\n",
    "List of things to query:\n",
    "- How many days where there where the wind was coming out of the North and mean daily temperature was less than -10 Celsius?\n",
    "- How many days did the wind come out of the North-East direction (between 30 and 60 degrees)?\n",
    "- What is the mean wind-speed and direction when temperatures are above 30 degrees Celsius?\n",
    "- What is the date of the hottest day when the wind was coming out of the West? (You may need to use a different method to help you sort the data).\n",
    "\n",
    "Write down the answers to the queries as comments in your notebook."
   ]
  },
  {
   "cell_type": "code",
   "execution_count": null,
   "metadata": {},
   "outputs": [],
   "source": []
  },
  {
   "cell_type": "code",
   "execution_count": null,
   "metadata": {},
   "outputs": [],
   "source": []
  },
  {
   "cell_type": "code",
   "execution_count": null,
   "metadata": {},
   "outputs": [],
   "source": []
  },
  {
   "cell_type": "markdown",
   "metadata": {},
   "source": [
    "This is only the absolute basics of pandas. Here is a link to some documentation and resources for how to use pandas and official tutorials for it. These are just resources I am placing here for your future reference.\n",
    "\n",
    "[Pandas Documentation](https://pandas.pydata.org/docs/reference/index.html)\n",
    "\n",
    "[Pandas Getting Started Tutorials](https://pandas.pydata.org/docs/getting_started/intro_tutorials/09_timeseries.html#min-tut-09-timeseries)\n",
    "\n",
    "[A short course on Pandas from Kaggle](https://www.kaggle.com/learn/pandas)\n",
    "\n"
   ]
  },
  {
   "cell_type": "markdown",
   "metadata": {},
   "source": [
    "Now let's get some practice in with XArray. This line loads in a dataset of Sea Surface Temperatures (SSTs) from NOAA’s Extended Reconstructed Sea Surface Temperature (ERSSTv5) monthly averages. After you load in the dataframe examine the dataframe as a whole and the 'sst' variable specifically."
   ]
  },
  {
   "cell_type": "code",
   "execution_count": 10,
   "metadata": {},
   "outputs": [],
   "source": [
    "xarray_example_ds = xr.tutorial.load_dataset('ersstv5')"
   ]
  },
  {
   "cell_type": "markdown",
   "metadata": {},
   "source": [
    "Examine the dataset in the cell below and look at how the SST variable is set up in relation to the dimensions of the file."
   ]
  },
  {
   "cell_type": "code",
   "execution_count": null,
   "metadata": {},
   "outputs": [],
   "source": []
  },
  {
   "cell_type": "markdown",
   "metadata": {},
   "source": [
    "Now that we've looked at the data let's dig into the SST data in more detail. Group the SST data by season, take the median and save it as its own variable called seasonal_grouping_median, then do the same thing but for the mean of the SST grouped by season, call this variable seasonal_grouping_mean"
   ]
  },
  {
   "cell_type": "code",
   "execution_count": null,
   "metadata": {},
   "outputs": [],
   "source": []
  },
  {
   "cell_type": "markdown",
   "metadata": {},
   "source": [
    "Make plots of either the mean or median seasonal SSTs in the cell below smilar to what we did in the workshop, this is to give us a sense of what the data looks like."
   ]
  },
  {
   "cell_type": "code",
   "execution_count": null,
   "metadata": {},
   "outputs": [],
   "source": []
  },
  {
   "cell_type": "markdown",
   "metadata": {},
   "source": [
    "Something that we commonly have to do in atmospheric science is calculate anomalies. Anomalies allow us to see how much data has deviated from the norm and removes things such as the seasonal cycle which could complicate analysis. We're going to work through calculating SST anomalies on the ERSSTv5 dataset.\n",
    "\n",
    "To do this we want to substract either the mean or median sst from the grouped by season dataset as a whole, save this as a variable called seasonal_anomalies."
   ]
  },
  {
   "cell_type": "code",
   "execution_count": null,
   "metadata": {},
   "outputs": [],
   "source": []
  },
  {
   "cell_type": "markdown",
   "metadata": {},
   "source": [
    "Now we're going to plot our seasonal anomalies using matplotlib. Below is some code to get you started making the plot. Plot the data using .contourf(), add a colorbar with a horizontal orientation.\n",
    "\n",
    "Try plotting the following:\n",
    "\n",
    "    - The mean of the anomalies for all months\n",
    "    - The anomalies for a specific month\n",
    "\n",
    "Why do the plots differ so wildly?"
   ]
  },
  {
   "cell_type": "code",
   "execution_count": 12,
   "metadata": {},
   "outputs": [
    {
     "data": {
      "image/png": "[encoded data removed]",
      "text/plain": [
       "<Figure size 800x500 with 1 Axes>"
      ]
     },
     "metadata": {},
     "output_type": "display_data"
    }
   ],
   "source": [
    "# UNCOMMENT THE LINE BELOW AFTER YOU'VE MADE YOUR seasonal_anomalies VARIABLE\n",
    "# sst_seasonal_anoms = np.array(seasonal_anomalies.sst)\n",
    "fig,ax = plt.subplots(1,1,figsize = (8,5),subplot_kw={'projection':ccrs.PlateCarree()})\n",
    "ax.coastlines()\n",
    "\n",
    "plt.show()"
   ]
  },
  {
   "cell_type": "code",
   "execution_count": null,
   "metadata": {},
   "outputs": [],
   "source": []
  }
 ],
 "metadata": {
  "kernelspec": {
   "display_name": "tutorial_env",
   "language": "python",
   "name": "python3"
  },
  "language_info": {
   "codemirror_mode": {
    "name": "ipython",
    "version": 3
   },
   "file_extension": ".py",
   "mimetype": "text/x-python",
   "name": "python",
   "nbconvert_exporter": "python",
   "pygments_lexer": "ipython3",
   "version": "3.12.4"
  }
 },
 "nbformat": 4,
 "nbformat_minor": 2
}
